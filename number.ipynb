{
 "cells": [
  {
   "cell_type": "code",
   "execution_count": 1,
   "metadata": {},
   "outputs": [
    {
     "name": "stderr",
     "output_type": "stream",
     "text": [
      "Using TensorFlow backend.\n"
     ]
    }
   ],
   "source": [
    "import keras"
   ]
  },
  {
   "cell_type": "code",
   "execution_count": 43,
   "metadata": {},
   "outputs": [],
   "source": [
    "from keras.models import Sequential\n",
    "from keras.layers import Dense, Flatten\n",
    "from keras.layers import Conv2D, MaxPooling2D\n",
    "from keras import backend as K"
   ]
  },
  {
   "cell_type": "code",
   "execution_count": 8,
   "metadata": {},
   "outputs": [
    {
     "name": "stdout",
     "output_type": "stream",
     "text": [
      "Downloading data from https://s3.amazonaws.com/img-datasets/mnist.npz\n",
      "11493376/11490434 [==============================] - 115s 10us/step\n"
     ]
    }
   ],
   "source": [
    "from keras.datasets import mnist\n",
    "(x_train, y_train), (x_test, y_test) = mnist.load_data()"
   ]
  },
  {
   "cell_type": "code",
   "execution_count": 9,
   "metadata": {},
   "outputs": [],
   "source": [
    "import numpy as np\n",
    "from keras.utils import to_categorical"
   ]
  },
  {
   "cell_type": "code",
   "execution_count": 11,
   "metadata": {},
   "outputs": [
    {
     "name": "stdout",
     "output_type": "stream",
     "text": [
      "Training data shape :  (60000, 28, 28) (60000,)\n",
      "Testing data shape :  (10000, 28, 28) (10000,)\n"
     ]
    }
   ],
   "source": [
    "print('Training data shape : ',x_train.shape , y_train.shape)\n",
    "\n",
    "print('Testing data shape : ', x_test.shape , y_test.shape)\n"
   ]
  },
  {
   "cell_type": "code",
   "execution_count": 13,
   "metadata": {},
   "outputs": [
    {
     "name": "stdout",
     "output_type": "stream",
     "text": [
      "Output classes :  [0 1 2 3 4 5 6 7 8 9]\n"
     ]
    }
   ],
   "source": [
    "classes = np.unique(y_train)\n",
    "print('Output classes : ', classes)\n"
   ]
  },
  {
   "cell_type": "code",
   "execution_count": 20,
   "metadata": {},
   "outputs": [
    {
     "data": {
      "text/plain": [
       "Text(0.5, 1.0, 'num 1 : 7')"
      ]
     },
     "execution_count": 20,
     "metadata": {},
     "output_type": "execute_result"
    },
    {
     "data": {
      "image/png": "[encoded data removed]",
      "text/plain": [
       "<Figure size 360x360 with 2 Axes>"
      ]
     },
     "metadata": {
      "needs_background": "light"
     },
     "output_type": "display_data"
    }
   ],
   "source": [
    "import matplotlib.pyplot as plt\n",
    "%matplotlib inline\n",
    "plt.figure(figsize=[5,5])\n",
    "plt.subplot(121)\n",
    "plt.imshow(x_train[0,:,:], cmap='gray')\n",
    "plt.title(\"num 1 : {}\".format(y_train[0]))\n",
    "plt.subplot(122)\n",
    "plt.imshow(x_test[0,:,:], cmap='gray')\n",
    "plt.title(\"num 1 : {}\".format(y_test[0]))"
   ]
  },
  {
   "cell_type": "code",
   "execution_count": 21,
   "metadata": {},
   "outputs": [
    {
     "data": {
      "text/plain": [
       "((60000, 28, 28, 1), (10000, 28, 28, 1))"
      ]
     },
     "execution_count": 21,
     "metadata": {},
     "output_type": "execute_result"
    }
   ],
   "source": [
    "x_train= x_train.reshape(-1, 28,28, 1)\n",
    "x_test= x_test.reshape(-1, 28,28, 1)\n",
    "x_train.shape, x_test.shape\n"
   ]
  },
  {
   "cell_type": "code",
   "execution_count": 33,
   "metadata": {},
   "outputs": [
    {
     "name": "stdout",
     "output_type": "stream",
     "text": [
      "After conversion to one-hot encoding: [0. 0. 0. 0. 0. 1. 0. 0. 0. 0.]\n"
     ]
    }
   ],
   "source": [
    "x_train = x_train.astype('float32')\n",
    "x_test = x_test.astype('float32')\n",
    "x_train= x_train/ 255.\n",
    "x_test= x_test/ 255.\n",
    "y_train_one_hot = to_categorical(y_train)\n",
    "y_test_one_hot = to_categorical(y_test)\n",
    "print('After conversion to one-hot encoding:', y_train_one_hot[0])\n",
    "\n"
   ]
  },
  {
   "cell_type": "code",
   "execution_count": 24,
   "metadata": {},
   "outputs": [],
   "source": [
    "from sklearn.model_selection import train_test_split\n",
    "x_train,x_valid,train_label,valid_label = train_test_split(x_train,y_train_one_hot, test_size=0.2, random_state=13)"
   ]
  },
  {
   "cell_type": "code",
   "execution_count": 25,
   "metadata": {},
   "outputs": [],
   "source": [
    "from keras.layers.normalization import BatchNormalization\n",
    "from keras.layers.advanced_activations import LeakyReLU"
   ]
  },
  {
   "cell_type": "code",
   "execution_count": 26,
   "metadata": {},
   "outputs": [],
   "source": [
    "batch_size = 64\n",
    "epochs = 20\n",
    "num_classes = 10"
   ]
  },
  {
   "cell_type": "code",
   "execution_count": 27,
   "metadata": {},
   "outputs": [
    {
     "name": "stdout",
     "output_type": "stream",
     "text": [
      "WARNING:tensorflow:From /home/computer/.local/lib/python3.6/site-packages/tensorflow/python/framework/op_def_library.py:263: colocate_with (from tensorflow.python.framework.ops) is deprecated and will be removed in a future version.\n",
      "Instructions for updating:\n",
      "Colocations handled automatically by placer.\n"
     ]
    }
   ],
   "source": [
    "number_model = Sequential()\n",
    "number_model.add(Conv2D(32, kernel_size=(3, 3),activation='linear',input_shape=(28,28,1),padding='same'))\n",
    "number_model.add(LeakyReLU(alpha=0.1))\n",
    "number_model.add(MaxPooling2D((2, 2),padding='same'))\n",
    "number_model.add(Conv2D(64, (3, 3), activation='linear',padding='same'))\n",
    "number_model.add(LeakyReLU(alpha=0.1))\n",
    "number_model.add(MaxPooling2D(pool_size=(2, 2),padding='same'))\n",
    "number_model.add(Conv2D(128, (3, 3), activation='linear',padding='same'))\n",
    "number_model.add(LeakyReLU(alpha=0.1))                  \n",
    "number_model.add(MaxPooling2D(pool_size=(2, 2),padding='same'))\n",
    "number_model.add(Flatten())\n",
    "number_model.add(Dense(128, activation='linear'))\n",
    "number_model.add(LeakyReLU(alpha=0.1))                  \n",
    "number_model.add(Dense(num_classes, activation='softmax'))"
   ]
  },
  {
   "cell_type": "code",
   "execution_count": 28,
   "metadata": {},
   "outputs": [],
   "source": [
    "number_model.compile(loss=keras.losses.categorical_crossentropy, optimizer=keras.optimizers.Adam(),metrics=['accuracy'])"
   ]
  },
  {
   "cell_type": "code",
   "execution_count": 29,
   "metadata": {},
   "outputs": [
    {
     "name": "stdout",
     "output_type": "stream",
     "text": [
      "_________________________________________________________________\n",
      "Layer (type)                 Output Shape              Param #   \n",
      "=================================================================\n",
      "conv2d_1 (Conv2D)            (None, 28, 28, 32)        320       \n",
      "_________________________________________________________________\n",
      "leaky_re_lu_1 (LeakyReLU)    (None, 28, 28, 32)        0         \n",
      "_________________________________________________________________\n",
      "max_pooling2d_1 (MaxPooling2 (None, 14, 14, 32)        0         \n",
      "_________________________________________________________________\n",
      "conv2d_2 (Conv2D)            (None, 14, 14, 64)        18496     \n",
      "_________________________________________________________________\n",
      "leaky_re_lu_2 (LeakyReLU)    (None, 14, 14, 64)        0         \n",
      "_________________________________________________________________\n",
      "max_pooling2d_2 (MaxPooling2 (None, 7, 7, 64)          0         \n",
      "_________________________________________________________________\n",
      "conv2d_3 (Conv2D)            (None, 7, 7, 128)         73856     \n",
      "_________________________________________________________________\n",
      "leaky_re_lu_3 (LeakyReLU)    (None, 7, 7, 128)         0         \n",
      "_________________________________________________________________\n",
      "max_pooling2d_3 (MaxPooling2 (None, 4, 4, 128)         0         \n",
      "_________________________________________________________________\n",
      "flatten_1 (Flatten)          (None, 2048)              0         \n",
      "_________________________________________________________________\n",
      "dense_1 (Dense)              (None, 128)               262272    \n",
      "_________________________________________________________________\n",
      "leaky_re_lu_4 (LeakyReLU)    (None, 128)               0         \n",
      "_________________________________________________________________\n",
      "dense_2 (Dense)              (None, 10)                1290      \n",
      "=================================================================\n",
      "Total params: 356,234\n",
      "Trainable params: 356,234\n",
      "Non-trainable params: 0\n",
      "_________________________________________________________________\n"
     ]
    }
   ],
   "source": [
    "number_model.summary()"
   ]
  },
  {
   "cell_type": "code",
   "execution_count": 30,
   "metadata": {},
   "outputs": [
    {
     "name": "stdout",
     "output_type": "stream",
     "text": [
      "WARNING:tensorflow:From /home/computer/.local/lib/python3.6/site-packages/tensorflow/python/ops/math_ops.py:3066: to_int32 (from tensorflow.python.ops.math_ops) is deprecated and will be removed in a future version.\n",
      "Instructions for updating:\n",
      "Use tf.cast instead.\n",
      "Train on 48000 samples, validate on 12000 samples\n",
      "Epoch 1/20\n",
      "48000/48000 [==============================] - 110s 2ms/step - loss: 0.1635 - acc: 0.9489 - val_loss: 0.0601 - val_acc: 0.9805\n",
      "Epoch 2/20\n",
      "48000/48000 [==============================] - 113s 2ms/step - loss: 0.0437 - acc: 0.9861 - val_loss: 0.0455 - val_acc: 0.9858\n",
      "Epoch 3/20\n",
      "48000/48000 [==============================] - 118s 2ms/step - loss: 0.0302 - acc: 0.9902 - val_loss: 0.0401 - val_acc: 0.9883\n",
      "Epoch 4/20\n",
      "48000/48000 [==============================] - 117s 2ms/step - loss: 0.0221 - acc: 0.9928 - val_loss: 0.0343 - val_acc: 0.9892\n",
      "Epoch 5/20\n",
      "48000/48000 [==============================] - 119s 2ms/step - loss: 0.0167 - acc: 0.9947 - val_loss: 0.0393 - val_acc: 0.9894\n",
      "Epoch 6/20\n",
      "48000/48000 [==============================] - 121s 3ms/step - loss: 0.0142 - acc: 0.9953 - val_loss: 0.0383 - val_acc: 0.9906\n",
      "Epoch 7/20\n",
      "48000/48000 [==============================] - 114s 2ms/step - loss: 0.0136 - acc: 0.9955 - val_loss: 0.0329 - val_acc: 0.9918\n",
      "Epoch 8/20\n",
      "48000/48000 [==============================] - 115s 2ms/step - loss: 0.0095 - acc: 0.9971 - val_loss: 0.0396 - val_acc: 0.9890\n",
      "Epoch 9/20\n",
      "48000/48000 [==============================] - 123s 3ms/step - loss: 0.0103 - acc: 0.9969 - val_loss: 0.0365 - val_acc: 0.9908\n",
      "Epoch 10/20\n",
      "48000/48000 [==============================] - 116s 2ms/step - loss: 0.0094 - acc: 0.9968 - val_loss: 0.0457 - val_acc: 0.9901\n",
      "Epoch 11/20\n",
      "48000/48000 [==============================] - 120s 2ms/step - loss: 0.0070 - acc: 0.9978 - val_loss: 0.0398 - val_acc: 0.9904\n",
      "Epoch 12/20\n",
      "48000/48000 [==============================] - 117s 2ms/step - loss: 0.0081 - acc: 0.9975 - val_loss: 0.0402 - val_acc: 0.9901\n",
      "Epoch 13/20\n",
      "48000/48000 [==============================] - 122s 3ms/step - loss: 0.0048 - acc: 0.9984 - val_loss: 0.0519 - val_acc: 0.9900\n",
      "Epoch 14/20\n",
      "48000/48000 [==============================] - 118s 2ms/step - loss: 0.0088 - acc: 0.9972 - val_loss: 0.0453 - val_acc: 0.9888\n",
      "Epoch 15/20\n",
      "48000/48000 [==============================] - 116s 2ms/step - loss: 0.0055 - acc: 0.9984 - val_loss: 0.0415 - val_acc: 0.9915\n",
      "Epoch 16/20\n",
      "48000/48000 [==============================] - 120s 3ms/step - loss: 0.0061 - acc: 0.9982 - val_loss: 0.0481 - val_acc: 0.9906\n",
      "Epoch 17/20\n",
      "48000/48000 [==============================] - 120s 2ms/step - loss: 0.0053 - acc: 0.9985 - val_loss: 0.0456 - val_acc: 0.9911\n",
      "Epoch 18/20\n",
      "48000/48000 [==============================] - 120s 2ms/step - loss: 0.0044 - acc: 0.9987 - val_loss: 0.0507 - val_acc: 0.9919\n",
      "Epoch 19/20\n",
      "48000/48000 [==============================] - 120s 3ms/step - loss: 0.0069 - acc: 0.9981 - val_loss: 0.0395 - val_acc: 0.9921\n",
      "Epoch 20/20\n",
      "48000/48000 [==============================] - 121s 3ms/step - loss: 0.0039 - acc: 0.9987 - val_loss: 0.0515 - val_acc: 0.9912\n"
     ]
    }
   ],
   "source": [
    "number_train = number_model.fit(x_train, train_label, batch_size=batch_size,epochs=epochs,verbose=1,validation_data=(x_valid, valid_label))"
   ]
  },
  {
   "cell_type": "code",
   "execution_count": 44,
   "metadata": {},
   "outputs": [
    {
     "name": "stdout",
     "output_type": "stream",
     "text": [
      "Test loss: 2.3868925983428957\n",
      "Test accuracy: 0.1135\n"
     ]
    }
   ],
   "source": [
    "test_eval = number_model.evaluate(x_test, y_test_one_hot, verbose=0)\n",
    "print('Test loss:', test_eval[0])\n",
    "print('Test accuracy:', test_eval[1])"
   ]
  },
  {
   "cell_type": "code",
   "execution_count": 45,
   "metadata": {},
   "outputs": [],
   "source": [
    "from keras.layers import Dropout"
   ]
  },
  {
   "cell_type": "code",
   "execution_count": 46,
   "metadata": {},
   "outputs": [],
   "source": [
    "batch_size = 64\n",
    "epochs = 20\n",
    "num_classes = 10"
   ]
  },
  {
   "cell_type": "code",
   "execution_count": 47,
   "metadata": {},
   "outputs": [
    {
     "name": "stdout",
     "output_type": "stream",
     "text": [
      "WARNING:tensorflow:From /usr/local/lib/python3.6/dist-packages/keras/backend/tensorflow_backend.py:3445: calling dropout (from tensorflow.python.ops.nn_ops) with keep_prob is deprecated and will be removed in a future version.\n",
      "Instructions for updating:\n",
      "Please use `rate` instead of `keep_prob`. Rate should be set to `rate = 1 - keep_prob`.\n"
     ]
    }
   ],
   "source": [
    "number_model = Sequential()\n",
    "number_model.add(Conv2D(32, kernel_size=(3, 3),activation='linear',padding='same',input_shape=(28,28,1)))\n",
    "number_model.add(LeakyReLU(alpha=0.1))\n",
    "number_model.add(MaxPooling2D((2, 2),padding='same'))\n",
    "number_model.add(Dropout(0.25))\n",
    "number_model.add(Conv2D(64, (3, 3), activation='linear',padding='same'))\n",
    "number_model.add(LeakyReLU(alpha=0.1))\n",
    "number_model.add(MaxPooling2D(pool_size=(2, 2),padding='same'))\n",
    "number_model.add(Dropout(0.25))\n",
    "number_model.add(Conv2D(128, (3, 3), activation='linear',padding='same'))\n",
    "number_model.add(LeakyReLU(alpha=0.1))                  \n",
    "number_model.add(MaxPooling2D(pool_size=(2, 2),padding='same'))\n",
    "number_model.add(Dropout(0.4))\n",
    "number_model.add(Flatten())\n",
    "number_model.add(Dense(128, activation='linear'))\n",
    "number_model.add(LeakyReLU(alpha=0.1))           \n",
    "number_model.add(Dropout(0.3))\n",
    "number_model.add(Dense(num_classes, activation='softmax'))\n"
   ]
  },
  {
   "cell_type": "code",
   "execution_count": 48,
   "metadata": {},
   "outputs": [
    {
     "name": "stdout",
     "output_type": "stream",
     "text": [
      "_________________________________________________________________\n",
      "Layer (type)                 Output Shape              Param #   \n",
      "=================================================================\n",
      "conv2d_4 (Conv2D)            (None, 28, 28, 32)        320       \n",
      "_________________________________________________________________\n",
      "leaky_re_lu_5 (LeakyReLU)    (None, 28, 28, 32)        0         \n",
      "_________________________________________________________________\n",
      "max_pooling2d_4 (MaxPooling2 (None, 14, 14, 32)        0         \n",
      "_________________________________________________________________\n",
      "dropout_1 (Dropout)          (None, 14, 14, 32)        0         \n",
      "_________________________________________________________________\n",
      "conv2d_5 (Conv2D)            (None, 14, 14, 64)        18496     \n",
      "_________________________________________________________________\n",
      "leaky_re_lu_6 (LeakyReLU)    (None, 14, 14, 64)        0         \n",
      "_________________________________________________________________\n",
      "max_pooling2d_5 (MaxPooling2 (None, 7, 7, 64)          0         \n",
      "_________________________________________________________________\n",
      "dropout_2 (Dropout)          (None, 7, 7, 64)          0         \n",
      "_________________________________________________________________\n",
      "conv2d_6 (Conv2D)            (None, 7, 7, 128)         73856     \n",
      "_________________________________________________________________\n",
      "leaky_re_lu_7 (LeakyReLU)    (None, 7, 7, 128)         0         \n",
      "_________________________________________________________________\n",
      "max_pooling2d_6 (MaxPooling2 (None, 4, 4, 128)         0         \n",
      "_________________________________________________________________\n",
      "dropout_3 (Dropout)          (None, 4, 4, 128)         0         \n",
      "_________________________________________________________________\n",
      "flatten_2 (Flatten)          (None, 2048)              0         \n",
      "_________________________________________________________________\n",
      "dense_3 (Dense)              (None, 128)               262272    \n",
      "_________________________________________________________________\n",
      "leaky_re_lu_8 (LeakyReLU)    (None, 128)               0         \n",
      "_________________________________________________________________\n",
      "dropout_4 (Dropout)          (None, 128)               0         \n",
      "_________________________________________________________________\n",
      "dense_4 (Dense)              (None, 10)                1290      \n",
      "=================================================================\n",
      "Total params: 356,234\n",
      "Trainable params: 356,234\n",
      "Non-trainable params: 0\n",
      "_________________________________________________________________\n"
     ]
    }
   ],
   "source": [
    "number_model.summary()"
   ]
  },
  {
   "cell_type": "code",
   "execution_count": 49,
   "metadata": {},
   "outputs": [],
   "source": [
    "number_model.compile(loss=keras.losses.categorical_crossentropy, optimizer=keras.optimizers.Adam(),metrics=['accuracy'])"
   ]
  },
  {
   "cell_type": "code",
   "execution_count": 51,
   "metadata": {},
   "outputs": [
    {
     "name": "stdout",
     "output_type": "stream",
     "text": [
      "Train on 48000 samples, validate on 12000 samples\n",
      "Epoch 1/20\n",
      "48000/48000 [==============================] - 110s 2ms/step - loss: 2.3019 - acc: 0.1111 - val_loss: 13.1969 - val_acc: 0.1008\n",
      "Epoch 2/20\n",
      "48000/48000 [==============================] - 114s 2ms/step - loss: 0.8396 - acc: 0.6992 - val_loss: 3.7692 - val_acc: 0.7641\n",
      "Epoch 3/20\n",
      "48000/48000 [==============================] - 117s 2ms/step - loss: 0.1682 - acc: 0.9469 - val_loss: 2.4375 - val_acc: 0.8465\n",
      "Epoch 4/20\n",
      "48000/48000 [==============================] - 118s 2ms/step - loss: 0.1216 - acc: 0.9618 - val_loss: 1.6205 - val_acc: 0.8973\n",
      "Epoch 5/20\n",
      "48000/48000 [==============================] - 120s 3ms/step - loss: 0.1000 - acc: 0.9681 - val_loss: 1.6700 - val_acc: 0.8945\n",
      "Epoch 6/20\n",
      "48000/48000 [==============================] - 121s 3ms/step - loss: 0.0865 - acc: 0.9743 - val_loss: 2.1824 - val_acc: 0.8630\n",
      "Epoch 7/20\n",
      "48000/48000 [==============================] - 126s 3ms/step - loss: 0.0770 - acc: 0.9761 - val_loss: 2.3080 - val_acc: 0.8551\n",
      "Epoch 8/20\n",
      "48000/48000 [==============================] - 123s 3ms/step - loss: 0.0696 - acc: 0.9782 - val_loss: 1.3494 - val_acc: 0.9153\n",
      "Epoch 9/20\n",
      "48000/48000 [==============================] - 122s 3ms/step - loss: 0.0642 - acc: 0.9797 - val_loss: 1.3446 - val_acc: 0.9147\n",
      "Epoch 10/20\n",
      "48000/48000 [==============================] - 120s 3ms/step - loss: 0.0575 - acc: 0.9818 - val_loss: 1.2567 - val_acc: 0.9211\n",
      "Epoch 11/20\n",
      "48000/48000 [==============================] - 121s 3ms/step - loss: 0.0555 - acc: 0.9821 - val_loss: 0.6532 - val_acc: 0.9585\n",
      "Epoch 12/20\n",
      "48000/48000 [==============================] - 126s 3ms/step - loss: 0.0528 - acc: 0.9827 - val_loss: 0.4791 - val_acc: 0.9698\n",
      "Epoch 13/20\n",
      "48000/48000 [==============================] - 124s 3ms/step - loss: 0.0484 - acc: 0.9848 - val_loss: 0.8155 - val_acc: 0.9487\n",
      "Epoch 14/20\n",
      "48000/48000 [==============================] - 126s 3ms/step - loss: 0.0467 - acc: 0.9852 - val_loss: 0.7763 - val_acc: 0.9511\n",
      "Epoch 15/20\n",
      "48000/48000 [==============================] - 123s 3ms/step - loss: 0.0428 - acc: 0.9858 - val_loss: 0.6474 - val_acc: 0.9593\n",
      "Epoch 16/20\n",
      "48000/48000 [==============================] - 120s 3ms/step - loss: 0.0431 - acc: 0.9864 - val_loss: 0.4038 - val_acc: 0.9746\n",
      "Epoch 17/20\n",
      "48000/48000 [==============================] - 119s 2ms/step - loss: 0.0402 - acc: 0.9865 - val_loss: 0.5113 - val_acc: 0.9677\n",
      "Epoch 18/20\n",
      "48000/48000 [==============================] - 119s 2ms/step - loss: 0.0389 - acc: 0.9873 - val_loss: 0.5421 - val_acc: 0.9660\n",
      "Epoch 19/20\n",
      "48000/48000 [==============================] - 123s 3ms/step - loss: 0.0378 - acc: 0.9874 - val_loss: 0.5079 - val_acc: 0.9678\n",
      "Epoch 20/20\n",
      "48000/48000 [==============================] - 129s 3ms/step - loss: 0.0356 - acc: 0.9888 - val_loss: 0.5901 - val_acc: 0.9631\n"
     ]
    }
   ],
   "source": [
    "number_train_dropout = number_model.fit(x_train , train_label, batch_size=batch_size,epochs=epochs,verbose=1,validation_data=(x_valid, valid_label))\n"
   ]
  },
  {
   "cell_type": "code",
   "execution_count": 53,
   "metadata": {},
   "outputs": [
    {
     "name": "stdout",
     "output_type": "stream",
     "text": [
      "10000/10000 [==============================] - 4s 421us/step\n"
     ]
    }
   ],
   "source": [
    "test_eval = number_model.evaluate(x_test, y_test_one_hot, verbose=1)\n"
   ]
  },
  {
   "cell_type": "code",
   "execution_count": 54,
   "metadata": {},
   "outputs": [
    {
     "name": "stdout",
     "output_type": "stream",
     "text": [
      "Test loss: 0.024877145380353977\n",
      "Test accuracy: 0.991\n"
     ]
    }
   ],
   "source": [
    "print('Test loss:', test_eval[0])\n",
    "print('Test accuracy:', test_eval[1])\n"
   ]
  },
  {
   "cell_type": "code",
   "execution_count": null,
   "metadata": {},
   "outputs": [],
   "source": []
  }
 ],
 "metadata": {
  "kernelspec": {
   "display_name": "Python 3",
   "language": "python",
   "name": "python3"
  },
  "language_info": {
   "codemirror_mode": {
    "name": "ipython",
    "version": 3
   },
   "file_extension": ".py",
   "mimetype": "text/x-python",
   "name": "python",
   "nbconvert_exporter": "python",
   "pygments_lexer": "ipython3",
   "version": "3.6.7"
  }
 },
 "nbformat": 4,
 "nbformat_minor": 2
}
